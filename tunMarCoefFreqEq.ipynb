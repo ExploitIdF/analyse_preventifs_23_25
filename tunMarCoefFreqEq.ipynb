{
  "cells": [
    {
      "cell_type": "markdown",
      "metadata": {
        "id": "view-in-github",
        "colab_type": "text"
      },
      "source": [
        "<a href=\"https://colab.research.google.com/github/ExploitIdF/analyse_preventifs_23_25/blob/main/tunMarCoefFreqEq.ipynb\" target=\"_parent\"><img src=\"https://colab.research.google.com/assets/colab-badge.svg\" alt=\"Open In Colab\"/></a>"
      ]
    },
    {
      "cell_type": "markdown",
      "id": "5e1f00b9",
      "metadata": {
        "id": "5e1f00b9"
      },
      "source": [
        "On veut créer un document qui extrait les formules des références prix du tableau de Fanny, et où l'on peut mettre une colonne des coéfficients pour chaque référence prix extraite, et aussi le nombre équipé et la fréquence totale. Ainsi, on pourra comparer les montants de 2023 et 2025 aux normatives de 2025 au niveau des prix."
      ]
    },
    {
      "cell_type": "code",
      "execution_count": 1,
      "id": "1e7ef028",
      "metadata": {
        "id": "1e7ef028"
      },
      "outputs": [],
      "source": [
        "# Importer les bibliothèques nécessaires\n",
        "import re\n",
        "import pandas as pd\n",
        "from openpyxl import load_workbook\n",
        "import requests\n",
        "from io import BytesIO\n",
        "import numpy as np\n",
        "\n",
        "# Affichage complet dans pandas\n",
        "pd.set_option('display.max_colwidth', None)\n",
        "pd.set_option('display.max_rows', None)\n",
        "pd.set_option('display.max_columns', None)"
      ]
    },
    {
      "cell_type": "code",
      "execution_count": 2,
      "id": "1a90a88d",
      "metadata": {
        "id": "1a90a88d"
      },
      "outputs": [],
      "source": [
        "# Télécharger le fichier Excel depuis l'URL\n",
        "url = 'https://storage.googleapis.com/sucombe-dirif/reference/Tunnels_Cout%20pr%C3%A9ventif_04.04.2024.xlsx'\n",
        "response = requests.get(url)\n",
        "file_stream = BytesIO(response.content)\n",
        "\n",
        "# Charger le fichier Excel avec openpyxl\n",
        "wb = load_workbook(filename=file_stream, data_only=False)\n",
        "ref_sheet = 'Préventifs_tunnels'\n",
        "ref_ws = wb[ref_sheet]"
      ]
    },
    {
      "cell_type": "code",
      "source": [
        "prevTun = pd.read_excel(url,sheet_name=ref_sheet)"
      ],
      "metadata": {
        "id": "_WPaxw8qQUPY"
      },
      "id": "_WPaxw8qQUPY",
      "execution_count": 18,
      "outputs": []
    },
    {
      "cell_type": "code",
      "source": [
        "prevTun[:1]"
      ],
      "metadata": {
        "id": "DfzBLwcCQ7r4",
        "outputId": "6774382a-5a39-43bd-b74d-e139064f213e",
        "colab": {
          "base_uri": "https://localhost:8080/",
          "height": 309
        }
      },
      "id": "DfzBLwcCQ7r4",
      "execution_count": 19,
      "outputs": [
        {
          "output_type": "execute_result",
          "data": {
            "text/plain": [
              "   Numéro\\nmarché    Marché         Type Opération Référence\\nprix  \\\n",
              "0         2033090  Bâtiment  Préventif IS + niches          MPE001   \n",
              "\n",
              "                                                                                    Détail Opération  \\\n",
              "0  EST - Inspection de maintenance préventive des issues et niches dans le tunnel de Boissy (sens W)   \n",
              "\n",
              "  Secteur\\ngéographique  Prix\\nactuel  Prix unitaire\\nHT PF  \\\n",
              "0                Boissy         900.0                   NaN   \n",
              "\n",
              "  Fin validité\\ndu prix PF  Prix unitaire\\nHT R1 Fin validité\\ndu prix R1  \\\n",
              "0                      NaT                   NaN                      NaT   \n",
              "\n",
              "   Prix unitaire\\nHT R2 Fin validité\\ndu prix R2  Prix unitaire\\nHT R3  \\\n",
              "0                   NaN                      NaT                   NaN   \n",
              "\n",
              "  Fin validité\\ndu prix R3  Fréq\\nDE Unnamed: 16  \n",
              "0               1900-01-01       1.0         NaN  "
            ],
            "text/html": [
              "\n",
              "  <div id=\"df-22b56111-17f1-4610-afd0-e99475f35735\" class=\"colab-df-container\">\n",
              "    <div>\n",
              "<style scoped>\n",
              "    .dataframe tbody tr th:only-of-type {\n",
              "        vertical-align: middle;\n",
              "    }\n",
              "\n",
              "    .dataframe tbody tr th {\n",
              "        vertical-align: top;\n",
              "    }\n",
              "\n",
              "    .dataframe thead th {\n",
              "        text-align: right;\n",
              "    }\n",
              "</style>\n",
              "<table border=\"1\" class=\"dataframe\">\n",
              "  <thead>\n",
              "    <tr style=\"text-align: right;\">\n",
              "      <th></th>\n",
              "      <th>Numéro\\nmarché</th>\n",
              "      <th>Marché</th>\n",
              "      <th>Type Opération</th>\n",
              "      <th>Référence\\nprix</th>\n",
              "      <th>Détail Opération</th>\n",
              "      <th>Secteur\\ngéographique</th>\n",
              "      <th>Prix\\nactuel</th>\n",
              "      <th>Prix unitaire\\nHT PF</th>\n",
              "      <th>Fin validité\\ndu prix PF</th>\n",
              "      <th>Prix unitaire\\nHT R1</th>\n",
              "      <th>Fin validité\\ndu prix R1</th>\n",
              "      <th>Prix unitaire\\nHT R2</th>\n",
              "      <th>Fin validité\\ndu prix R2</th>\n",
              "      <th>Prix unitaire\\nHT R3</th>\n",
              "      <th>Fin validité\\ndu prix R3</th>\n",
              "      <th>Fréq\\nDE</th>\n",
              "      <th>Unnamed: 16</th>\n",
              "    </tr>\n",
              "  </thead>\n",
              "  <tbody>\n",
              "    <tr>\n",
              "      <th>0</th>\n",
              "      <td>2033090</td>\n",
              "      <td>Bâtiment</td>\n",
              "      <td>Préventif IS + niches</td>\n",
              "      <td>MPE001</td>\n",
              "      <td>EST - Inspection de maintenance préventive des issues et niches dans le tunnel de Boissy (sens W)</td>\n",
              "      <td>Boissy</td>\n",
              "      <td>900.0</td>\n",
              "      <td>NaN</td>\n",
              "      <td>NaT</td>\n",
              "      <td>NaN</td>\n",
              "      <td>NaT</td>\n",
              "      <td>NaN</td>\n",
              "      <td>NaT</td>\n",
              "      <td>NaN</td>\n",
              "      <td>1900-01-01</td>\n",
              "      <td>1.0</td>\n",
              "      <td>NaN</td>\n",
              "    </tr>\n",
              "  </tbody>\n",
              "</table>\n",
              "</div>\n",
              "    <div class=\"colab-df-buttons\">\n",
              "\n",
              "  <div class=\"colab-df-container\">\n",
              "    <button class=\"colab-df-convert\" onclick=\"convertToInteractive('df-22b56111-17f1-4610-afd0-e99475f35735')\"\n",
              "            title=\"Convert this dataframe to an interactive table.\"\n",
              "            style=\"display:none;\">\n",
              "\n",
              "  <svg xmlns=\"http://www.w3.org/2000/svg\" height=\"24px\" viewBox=\"0 -960 960 960\">\n",
              "    <path d=\"M120-120v-720h720v720H120Zm60-500h600v-160H180v160Zm220 220h160v-160H400v160Zm0 220h160v-160H400v160ZM180-400h160v-160H180v160Zm440 0h160v-160H620v160ZM180-180h160v-160H180v160Zm440 0h160v-160H620v160Z\"/>\n",
              "  </svg>\n",
              "    </button>\n",
              "\n",
              "  <style>\n",
              "    .colab-df-container {\n",
              "      display:flex;\n",
              "      gap: 12px;\n",
              "    }\n",
              "\n",
              "    .colab-df-convert {\n",
              "      background-color: #E8F0FE;\n",
              "      border: none;\n",
              "      border-radius: 50%;\n",
              "      cursor: pointer;\n",
              "      display: none;\n",
              "      fill: #1967D2;\n",
              "      height: 32px;\n",
              "      padding: 0 0 0 0;\n",
              "      width: 32px;\n",
              "    }\n",
              "\n",
              "    .colab-df-convert:hover {\n",
              "      background-color: #E2EBFA;\n",
              "      box-shadow: 0px 1px 2px rgba(60, 64, 67, 0.3), 0px 1px 3px 1px rgba(60, 64, 67, 0.15);\n",
              "      fill: #174EA6;\n",
              "    }\n",
              "\n",
              "    .colab-df-buttons div {\n",
              "      margin-bottom: 4px;\n",
              "    }\n",
              "\n",
              "    [theme=dark] .colab-df-convert {\n",
              "      background-color: #3B4455;\n",
              "      fill: #D2E3FC;\n",
              "    }\n",
              "\n",
              "    [theme=dark] .colab-df-convert:hover {\n",
              "      background-color: #434B5C;\n",
              "      box-shadow: 0px 1px 3px 1px rgba(0, 0, 0, 0.15);\n",
              "      filter: drop-shadow(0px 1px 2px rgba(0, 0, 0, 0.3));\n",
              "      fill: #FFFFFF;\n",
              "    }\n",
              "  </style>\n",
              "\n",
              "    <script>\n",
              "      const buttonEl =\n",
              "        document.querySelector('#df-22b56111-17f1-4610-afd0-e99475f35735 button.colab-df-convert');\n",
              "      buttonEl.style.display =\n",
              "        google.colab.kernel.accessAllowed ? 'block' : 'none';\n",
              "\n",
              "      async function convertToInteractive(key) {\n",
              "        const element = document.querySelector('#df-22b56111-17f1-4610-afd0-e99475f35735');\n",
              "        const dataTable =\n",
              "          await google.colab.kernel.invokeFunction('convertToInteractive',\n",
              "                                                    [key], {});\n",
              "        if (!dataTable) return;\n",
              "\n",
              "        const docLinkHtml = 'Like what you see? Visit the ' +\n",
              "          '<a target=\"_blank\" href=https://colab.research.google.com/notebooks/data_table.ipynb>data table notebook</a>'\n",
              "          + ' to learn more about interactive tables.';\n",
              "        element.innerHTML = '';\n",
              "        dataTable['output_type'] = 'display_data';\n",
              "        await google.colab.output.renderOutput(dataTable, element);\n",
              "        const docLink = document.createElement('div');\n",
              "        docLink.innerHTML = docLinkHtml;\n",
              "        element.appendChild(docLink);\n",
              "      }\n",
              "    </script>\n",
              "  </div>\n",
              "\n",
              "\n",
              "    </div>\n",
              "  </div>\n"
            ],
            "application/vnd.google.colaboratory.intrinsic+json": {
              "type": "dataframe",
              "repr_error": "Out of range float values are not JSON compliant: nan"
            }
          },
          "metadata": {},
          "execution_count": 19
        }
      ]
    },
    {
      "cell_type": "code",
      "execution_count": 3,
      "id": "3eb06d82",
      "metadata": {
        "id": "3eb06d82"
      },
      "outputs": [],
      "source": [
        "# Liste des feuilles Excel des tunnels\n",
        "tunnel_sheets = [\n",
        "    'Boissy', 'Champigny', 'Guy Môquet', 'Moulin', 'Nogent',\n",
        "    'Ambroise Paré', 'Belle-Rive', 'Chennevières', 'Fontenay', 'La Défense',\n",
        "    'Nanterre Centre', 'Nanterre échangeur', 'Neuilly', 'Saint-Cloud', 'Sévines',\n",
        "    'Bobigny', 'La Courneuve', 'Landy', 'Lumen-Norton', 'Taverny',\n",
        "    'Antony', 'Fresnes', 'Bicêtre', 'Italie', 'Orly',\n",
        "]\n",
        "\n",
        "# Types de marchés recherchés\n",
        "marches = [\"Bâtiment\", \"Propreté\", \"ContReg\", \"Eclairage\", \"AEV\", \"Automate\", \"PAU/TSE\", \"MEC\", \"Onduleur\", \"Détection\", \"Ventilation\", \"Vidéo\", \"Pompage\"]"
      ]
    },
    {
      "cell_type": "code",
      "execution_count": 4,
      "id": "5cd0d26c",
      "metadata": {
        "id": "5cd0d26c"
      },
      "outputs": [],
      "source": [
        "# Obtenir la valeur de référence prix depuis l'onglet global 'Préventifs_tunnels'\n",
        "def get_ref_prix(row_num):\n",
        "    try:\n",
        "        val = ref_ws[f\"D{row_num}\"].value\n",
        "        return val if val else f\"MISSING D{row_num}\"\n",
        "    except:\n",
        "        return f\"INVALID D{row_num}\"\n"
      ]
    },
    {
      "cell_type": "code",
      "execution_count": 5,
      "id": "cbde29d7",
      "metadata": {
        "id": "cbde29d7"
      },
      "outputs": [],
      "source": [
        "# Obtenir la valeur de référence prix depuis la feuille de référence\n",
        "def get_ref_prix(row_num):\n",
        "    try:\n",
        "        val = ref_ws[f\"D{row_num}\"].value\n",
        "        return val if val else f\"MISSING D{row_num}\"\n",
        "    except:\n",
        "        return f\"INVALID D{row_num}\"\n"
      ]
    },
    {
      "cell_type": "markdown",
      "id": "4d84f09f",
      "metadata": {
        "id": "4d84f09f"
      },
      "source": [
        "Il faut lire les formules de la colonne G dans l'onglet de chaque tunnel maintenant."
      ]
    },
    {
      "cell_type": "code",
      "execution_count": 6,
      "id": "6cb39c12",
      "metadata": {
        "id": "6cb39c12"
      },
      "outputs": [],
      "source": [
        "# Extraire les détails d'une formule Excel\n",
        "def extract_formula_details(formula):\n",
        "    if re.match(r\"^=\\s*'?.+?!G\\d+$\", formula):\n",
        "        return 'direct', [(formula.split('!G')[-1])], 1.0\n",
        "    elif re.match(r\"^=\\(\\s*'?.+?!G\\d+\\s*\\+\\s*'?.+?!G\\d+\\s*\\)$\", formula):\n",
        "        return 'sum_2', re.findall(r\"G(\\d+)\", formula), 1.0\n",
        "    elif re.match(r\"(?i)^=\\s*SUM\\(\\s*'?.+?!G(\\d+):G(\\d+)\\s*\\)$\", formula):\n",
        "        match = re.search(r\"G(\\d+):G(\\d+)\", formula)\n",
        "        if match:\n",
        "            start, end = int(match.group(1)), int(match.group(2))\n",
        "            return f\"sum_{abs(end - start) + 1}\", [str(i) for i in range(start, end + 1)], 1.0\n",
        "    elif re.match(r\"^=\\(\\s*'?.+?!G\\d+\\s*\\+\\s*'?.+?!G\\d+\\s*\\)/\\d+(\\.\\d+)?$\", formula):\n",
        "        return 'div_2', re.findall(r\"G(\\d+)\", formula), 0.5\n",
        "    elif re.match(r\"^=\\s*'?.+?!G\\d+/\\d+(\\.\\d+)?$\", formula):\n",
        "        return 'div_1', [re.findall(r\"G(\\d+)\", formula)[0]], 0.5\n",
        "    else:\n",
        "        return 'unknown', [], 0\n"
      ]
    },
    {
      "cell_type": "markdown",
      "id": "91f2f6d2",
      "metadata": {
        "id": "91f2f6d2"
      },
      "source": [
        "Les formules sont soit des sommes, soit des divisions, soit des références à des autres cellules dans une autre feuille; donc, il faut qu'on prend tout ça en compte quand on lit les formules."
      ]
    },
    {
      "cell_type": "code",
      "execution_count": 7,
      "id": "5727500e",
      "metadata": {
        "id": "5727500e"
      },
      "outputs": [],
      "source": [
        "# Résoudre une valeur de cellule Excel avec formules, récursivement\n",
        "def resolve_cell_value(wb, ws, val, max_depth=5):\n",
        "    sheet_name_map = {'Equipementspartunnel': 'Equipements par tunnel'}\n",
        "    if max_depth <= 0:\n",
        "        return f\"Max recursion depth reached\"\n",
        "    if not isinstance(val, str) or not val.startswith('='):\n",
        "        return val\n",
        "\n",
        "    val_clean = val.lstrip('=').replace(' ', '')\n",
        "\n",
        "    # Gestion des formules SUM\n",
        "    match_sum = re.match(r\"(?i)^SUM\\(([A-Z]+\\d+):([A-Z]+\\d+)\\)$\", val_clean)\n",
        "    if match_sum:\n",
        "        col = re.match(r\"([A-Z]+)\", match_sum.group(1)).group(1)\n",
        "        start_row = int(re.match(r\"[A-Z]+(\\d+)\", match_sum.group(1)).group(1))\n",
        "        end_row = int(re.match(r\"[A-Z]+(\\d+)\", match_sum.group(2)).group(1))\n",
        "        total = 0\n",
        "        for r in range(start_row, end_row + 1):\n",
        "            v = resolve_cell_value(wb, ws, ws[f\"{col}{r}\"].value, max_depth - 1)\n",
        "            try:\n",
        "                total += float(v)\n",
        "            except:\n",
        "                pass\n",
        "        return total\n",
        "\n",
        "    # Gestion des opérations entre cellules (mêmes ou autres feuilles)\n",
        "    op_match = re.match(r\"(?:'([^']+)')?!?([A-Z]+\\d+)([\\+\\-\\/])(?:'([^']+)')?!?([A-Z]+\\d+)\", val_clean)\n",
        "    if op_match:\n",
        "        sheet1, cell1, op, sheet2, cell2 = op_match.groups()\n",
        "        sheet1 = sheet_name_map.get(sheet1, sheet1) if sheet1 else ws.title\n",
        "        sheet2 = sheet_name_map.get(sheet2, sheet2) if sheet2 else ws.title\n",
        "        val1 = resolve_cell_value(wb, wb[sheet1], wb[sheet1][cell1].value, max_depth - 1) if sheet1 in wb.sheetnames else 0\n",
        "        val2 = resolve_cell_value(wb, wb[sheet2], wb[sheet2][cell2].value, max_depth - 1) if sheet2 in wb.sheetnames else 0\n",
        "        try:\n",
        "            val1, val2 = float(val1), float(val2)\n",
        "            return val1 + val2 if op == '+' else val1 - val2 if op == '-' else val1 / val2 if val2 != 0 else 0\n",
        "        except:\n",
        "            return 0\n",
        "\n",
        "    # Référence simple vers une autre cellule d'une autre feuille\n",
        "    match_ref = re.match(r\"'?([^']+)'?!([A-Z]+\\d+)\", val_clean)\n",
        "    if match_ref:\n",
        "        sheet_name, cell_ref = match_ref.groups()\n",
        "        sheet_name = sheet_name_map.get(sheet_name, sheet_name)\n",
        "        if sheet_name in wb.sheetnames:\n",
        "            cell_val = wb[sheet_name][cell_ref].value\n",
        "            return resolve_cell_value(wb, wb[sheet_name], cell_val, max_depth - 1)\n",
        "        else:\n",
        "            return f\"MISSING SHEET {sheet_name}\"\n",
        "\n",
        "    # Références locales avec opérateurs\n",
        "    match_local = re.match(r\"([A-Z]+\\d+)([\\+\\-\\/])([A-Z]+\\d+)\", val_clean)\n",
        "    if match_local:\n",
        "        c1, op, c2 = match_local.groups()\n",
        "        v1 = resolve_cell_value(wb, ws, ws[c1].value, max_depth - 1)\n",
        "        v2 = resolve_cell_value(wb, ws, ws[c2].value, max_depth - 1)\n",
        "        try:\n",
        "            v1, v2 = float(v1), float(v2)\n",
        "            return v1 + v2 if op == '+' else v1 - v2 if op == '-' else v1 / v2 if v2 != 0 else 0\n",
        "        except:\n",
        "            return 0\n",
        "\n",
        "    return val\n"
      ]
    },
    {
      "cell_type": "code",
      "execution_count": 8,
      "id": "64d3bb60",
      "metadata": {
        "id": "64d3bb60"
      },
      "outputs": [],
      "source": [
        "# Extraire les formules et valeurs depuis toutes les feuilles\n",
        "all_rows = []\n",
        "\n",
        "for tunnel in tunnel_sheets:\n",
        "    ws = wb[tunnel]\n",
        "    for row in ws.iter_rows(min_row=3, min_col=1, max_col=7):\n",
        "        marche_cell, g_cell = row[0], row[6]\n",
        "        if marche_cell.value not in marches or g_cell.data_type != 'f':\n",
        "            continue\n",
        "\n",
        "        marche = marche_cell.value\n",
        "        formula = g_cell.value\n",
        "        formula_type, row_refs, coeff = extract_formula_details(formula)\n",
        "        freq_totale_val = resolve_cell_value(wb, ws, row[4].value)\n",
        "        nbr_equipe_val = resolve_cell_value(wb, ws, row[5].value)\n",
        "        try:\n",
        "            nbr_equipe_val = float(nbr_equipe_val)\n",
        "        except:\n",
        "            nbr_equipe_val = 0\n",
        "\n",
        "        if not row_refs:\n",
        "            all_rows.append({\n",
        "                'Tunnel': tunnel,\n",
        "                'Marché': marche,\n",
        "                'Référence prix': '',\n",
        "                'Coefficient': coeff,\n",
        "                'freq_totale': freq_totale_val,\n",
        "                'nbr_equipe': nbr_equipe_val,\n",
        "                'Source Cell': g_cell.coordinate,\n",
        "                'Formula Type': formula_type\n",
        "            })\n",
        "            continue\n",
        "\n",
        "        for i, ref_row in enumerate(row_refs):\n",
        "            ref_prix = get_ref_prix(int(ref_row))\n",
        "            all_rows.append({\n",
        "                'Tunnel': tunnel,\n",
        "                'Marché': marche,\n",
        "                'Référence prix': ref_prix,\n",
        "                'Coefficient': coeff if i == 0 else '',\n",
        "                'freq_totale': freq_totale_val if i == 0 else '',\n",
        "                'nbr_equipe': nbr_equipe_val if i == 0 else '',\n",
        "                'Source Cell': g_cell.coordinate if i == 0 else '',\n",
        "                'Formula Type': formula_type if i == 0 else ''\n",
        "            })"
      ]
    },
    {
      "cell_type": "code",
      "execution_count": 9,
      "id": "48f4aa4e",
      "metadata": {
        "id": "48f4aa4e",
        "outputId": "fc7964a7-546c-4fdb-b2d9-06276806ee37",
        "colab": {
          "base_uri": "https://localhost:8080/"
        }
      },
      "outputs": [
        {
          "output_type": "stream",
          "name": "stderr",
          "text": [
            "<ipython-input-9-165483627>:13: FutureWarning: Downcasting behavior in `replace` is deprecated and will be removed in a future version. To retain the old behavior, explicitly call `result.infer_objects(copy=False)`. To opt-in to the future behavior, set `pd.set_option('future.no_silent_downcasting', True)`\n",
            "  tunnel_mar_prix_coefficient[col] = tunnel_mar_prix_coefficient[col].replace('', np.nan)\n",
            "<ipython-input-9-165483627>:24: DeprecationWarning: DataFrameGroupBy.apply operated on the grouping columns. This behavior is deprecated, and in a future version of pandas the grouping columns will be excluded from the operation. Either pass `include_groups=False` to exclude the groupings or explicitly select the grouping columns after groupby to silence this warning.\n",
            "  .apply(fill_group)\n"
          ]
        }
      ],
      "source": [
        "# Créer le DataFrame final\n",
        "tunnel_mar_prix_coefficient = pd.DataFrame(all_rows, columns=[\n",
        "    'Tunnel', 'Marché', 'Référence prix', 'Coefficient',\n",
        "    'freq_totale', 'nbr_equipe', 'Source Cell', 'Formula Type'\n",
        "])\n",
        "\n",
        "# Remplissage vers l'avant (comme forward-fill) des colonnes nécessaires --> ffill()\n",
        "tunnel_mar_prix_coefficient['Source Cell'] = tunnel_mar_prix_coefficient['Source Cell'].replace('', np.nan).ffill()\n",
        "\n",
        "# Remplacer les chaînes vides par NaN\n",
        "cols_to_fill = ['Coefficient', 'freq_totale', 'nbr_equipe']\n",
        "for col in cols_to_fill:\n",
        "    tunnel_mar_prix_coefficient[col] = tunnel_mar_prix_coefficient[col].replace('', np.nan)\n",
        "\n",
        "# Remplir les valeurs manquantes par groupe\n",
        "def fill_group(group):\n",
        "    for col in cols_to_fill:\n",
        "        group[col] = group[col].ffill().bfill()\n",
        "    return group\n",
        "\n",
        "tunnel_mar_prix_coefficient = (\n",
        "    tunnel_mar_prix_coefficient\n",
        "    .groupby(['Tunnel', 'Source Cell'], dropna=False)\n",
        "    .apply(fill_group)\n",
        "    .reset_index(drop=True)\n",
        ")\n"
      ]
    },
    {
      "cell_type": "code",
      "execution_count": 10,
      "id": "7ca91010",
      "metadata": {
        "id": "7ca91010"
      },
      "outputs": [],
      "source": [
        "# Exporter le DataFrame nettoyé en CSV\n",
        "tunnel_mar_prix_coefficient.to_csv('tunMarCoefFreqEq.csv', index=False)\n"
      ]
    },
    {
      "cell_type": "code",
      "source": [
        "tunnel_mar_prix_coefficient[:1].columns"
      ],
      "metadata": {
        "id": "SMaTrCFZOK1j",
        "outputId": "5a1fc632-46d3-4b82-c498-8e9293bfcdb1",
        "colab": {
          "base_uri": "https://localhost:8080/"
        }
      },
      "id": "SMaTrCFZOK1j",
      "execution_count": 25,
      "outputs": [
        {
          "output_type": "execute_result",
          "data": {
            "text/plain": [
              "Index(['Tunnel', 'Marché', 'Référence prix', 'Coefficient', 'freq_totale',\n",
              "       'nbr_equipe', 'Source Cell', 'Formula Type'],\n",
              "      dtype='object')"
            ]
          },
          "metadata": {},
          "execution_count": 25
        }
      ]
    },
    {
      "cell_type": "code",
      "source": [
        "corCdPrix=prevTun[[ 'Marché',  'Référence\\nprix',       'Prix\\nactuel']].set_index(['Marché',  'Référence\\nprix'])\n",
        "corCdPrix.columns=['prixAct']"
      ],
      "metadata": {
        "id": "ZFySYTIROK45"
      },
      "id": "ZFySYTIROK45",
      "execution_count": 36,
      "outputs": []
    },
    {
      "cell_type": "code",
      "source": [
        "tunMarPr=tunnel_mar_prix_coefficient.join(corCdPrix,on=['Marché',  'Référence prix'])\n",
        "tunMarPr[:1]"
      ],
      "metadata": {
        "id": "iIsejuHTOK9L",
        "outputId": "217bdb9f-1f0d-429d-d1dc-62c13231a755",
        "colab": {
          "base_uri": "https://localhost:8080/",
          "height": 80
        }
      },
      "id": "iIsejuHTOK9L",
      "execution_count": 37,
      "outputs": [
        {
          "output_type": "execute_result",
          "data": {
            "text/plain": [
              "          Tunnel   Marché Référence prix  Coefficient  freq_totale  \\\n",
              "0  Ambroise Paré  ContReg         CRC101          1.0          1.0   \n",
              "\n",
              "   nbr_equipe Source Cell Formula Type  prixAct  \n",
              "0         0.0         G10       direct    648.6  "
            ],
            "text/html": [
              "\n",
              "  <div id=\"df-7dd2b74b-e58b-4744-b7af-ed96e08e2114\" class=\"colab-df-container\">\n",
              "    <div>\n",
              "<style scoped>\n",
              "    .dataframe tbody tr th:only-of-type {\n",
              "        vertical-align: middle;\n",
              "    }\n",
              "\n",
              "    .dataframe tbody tr th {\n",
              "        vertical-align: top;\n",
              "    }\n",
              "\n",
              "    .dataframe thead th {\n",
              "        text-align: right;\n",
              "    }\n",
              "</style>\n",
              "<table border=\"1\" class=\"dataframe\">\n",
              "  <thead>\n",
              "    <tr style=\"text-align: right;\">\n",
              "      <th></th>\n",
              "      <th>Tunnel</th>\n",
              "      <th>Marché</th>\n",
              "      <th>Référence prix</th>\n",
              "      <th>Coefficient</th>\n",
              "      <th>freq_totale</th>\n",
              "      <th>nbr_equipe</th>\n",
              "      <th>Source Cell</th>\n",
              "      <th>Formula Type</th>\n",
              "      <th>prixAct</th>\n",
              "    </tr>\n",
              "  </thead>\n",
              "  <tbody>\n",
              "    <tr>\n",
              "      <th>0</th>\n",
              "      <td>Ambroise Paré</td>\n",
              "      <td>ContReg</td>\n",
              "      <td>CRC101</td>\n",
              "      <td>1.0</td>\n",
              "      <td>1.0</td>\n",
              "      <td>0.0</td>\n",
              "      <td>G10</td>\n",
              "      <td>direct</td>\n",
              "      <td>648.6</td>\n",
              "    </tr>\n",
              "  </tbody>\n",
              "</table>\n",
              "</div>\n",
              "    <div class=\"colab-df-buttons\">\n",
              "\n",
              "  <div class=\"colab-df-container\">\n",
              "    <button class=\"colab-df-convert\" onclick=\"convertToInteractive('df-7dd2b74b-e58b-4744-b7af-ed96e08e2114')\"\n",
              "            title=\"Convert this dataframe to an interactive table.\"\n",
              "            style=\"display:none;\">\n",
              "\n",
              "  <svg xmlns=\"http://www.w3.org/2000/svg\" height=\"24px\" viewBox=\"0 -960 960 960\">\n",
              "    <path d=\"M120-120v-720h720v720H120Zm60-500h600v-160H180v160Zm220 220h160v-160H400v160Zm0 220h160v-160H400v160ZM180-400h160v-160H180v160Zm440 0h160v-160H620v160ZM180-180h160v-160H180v160Zm440 0h160v-160H620v160Z\"/>\n",
              "  </svg>\n",
              "    </button>\n",
              "\n",
              "  <style>\n",
              "    .colab-df-container {\n",
              "      display:flex;\n",
              "      gap: 12px;\n",
              "    }\n",
              "\n",
              "    .colab-df-convert {\n",
              "      background-color: #E8F0FE;\n",
              "      border: none;\n",
              "      border-radius: 50%;\n",
              "      cursor: pointer;\n",
              "      display: none;\n",
              "      fill: #1967D2;\n",
              "      height: 32px;\n",
              "      padding: 0 0 0 0;\n",
              "      width: 32px;\n",
              "    }\n",
              "\n",
              "    .colab-df-convert:hover {\n",
              "      background-color: #E2EBFA;\n",
              "      box-shadow: 0px 1px 2px rgba(60, 64, 67, 0.3), 0px 1px 3px 1px rgba(60, 64, 67, 0.15);\n",
              "      fill: #174EA6;\n",
              "    }\n",
              "\n",
              "    .colab-df-buttons div {\n",
              "      margin-bottom: 4px;\n",
              "    }\n",
              "\n",
              "    [theme=dark] .colab-df-convert {\n",
              "      background-color: #3B4455;\n",
              "      fill: #D2E3FC;\n",
              "    }\n",
              "\n",
              "    [theme=dark] .colab-df-convert:hover {\n",
              "      background-color: #434B5C;\n",
              "      box-shadow: 0px 1px 3px 1px rgba(0, 0, 0, 0.15);\n",
              "      filter: drop-shadow(0px 1px 2px rgba(0, 0, 0, 0.3));\n",
              "      fill: #FFFFFF;\n",
              "    }\n",
              "  </style>\n",
              "\n",
              "    <script>\n",
              "      const buttonEl =\n",
              "        document.querySelector('#df-7dd2b74b-e58b-4744-b7af-ed96e08e2114 button.colab-df-convert');\n",
              "      buttonEl.style.display =\n",
              "        google.colab.kernel.accessAllowed ? 'block' : 'none';\n",
              "\n",
              "      async function convertToInteractive(key) {\n",
              "        const element = document.querySelector('#df-7dd2b74b-e58b-4744-b7af-ed96e08e2114');\n",
              "        const dataTable =\n",
              "          await google.colab.kernel.invokeFunction('convertToInteractive',\n",
              "                                                    [key], {});\n",
              "        if (!dataTable) return;\n",
              "\n",
              "        const docLinkHtml = 'Like what you see? Visit the ' +\n",
              "          '<a target=\"_blank\" href=https://colab.research.google.com/notebooks/data_table.ipynb>data table notebook</a>'\n",
              "          + ' to learn more about interactive tables.';\n",
              "        element.innerHTML = '';\n",
              "        dataTable['output_type'] = 'display_data';\n",
              "        await google.colab.output.renderOutput(dataTable, element);\n",
              "        const docLink = document.createElement('div');\n",
              "        docLink.innerHTML = docLinkHtml;\n",
              "        element.appendChild(docLink);\n",
              "      }\n",
              "    </script>\n",
              "  </div>\n",
              "\n",
              "\n",
              "    </div>\n",
              "  </div>\n"
            ],
            "application/vnd.google.colaboratory.intrinsic+json": {
              "type": "dataframe",
              "summary": "{\n  \"name\": \"tunMarPr[:1]\",\n  \"rows\": 1,\n  \"fields\": [\n    {\n      \"column\": \"Tunnel\",\n      \"properties\": {\n        \"dtype\": \"string\",\n        \"num_unique_values\": 1,\n        \"samples\": [\n          \"Ambroise Par\\u00e9\"\n        ],\n        \"semantic_type\": \"\",\n        \"description\": \"\"\n      }\n    },\n    {\n      \"column\": \"March\\u00e9\",\n      \"properties\": {\n        \"dtype\": \"string\",\n        \"num_unique_values\": 1,\n        \"samples\": [\n          \"ContReg\"\n        ],\n        \"semantic_type\": \"\",\n        \"description\": \"\"\n      }\n    },\n    {\n      \"column\": \"R\\u00e9f\\u00e9rence prix\",\n      \"properties\": {\n        \"dtype\": \"string\",\n        \"num_unique_values\": 1,\n        \"samples\": [\n          \"CRC101\"\n        ],\n        \"semantic_type\": \"\",\n        \"description\": \"\"\n      }\n    },\n    {\n      \"column\": \"Coefficient\",\n      \"properties\": {\n        \"dtype\": \"number\",\n        \"std\": null,\n        \"min\": 1.0,\n        \"max\": 1.0,\n        \"num_unique_values\": 1,\n        \"samples\": [\n          1.0\n        ],\n        \"semantic_type\": \"\",\n        \"description\": \"\"\n      }\n    },\n    {\n      \"column\": \"freq_totale\",\n      \"properties\": {\n        \"dtype\": \"number\",\n        \"std\": null,\n        \"min\": 1.0,\n        \"max\": 1.0,\n        \"num_unique_values\": 1,\n        \"samples\": [\n          1.0\n        ],\n        \"semantic_type\": \"\",\n        \"description\": \"\"\n      }\n    },\n    {\n      \"column\": \"nbr_equipe\",\n      \"properties\": {\n        \"dtype\": \"number\",\n        \"std\": null,\n        \"min\": 0.0,\n        \"max\": 0.0,\n        \"num_unique_values\": 1,\n        \"samples\": [\n          0.0\n        ],\n        \"semantic_type\": \"\",\n        \"description\": \"\"\n      }\n    },\n    {\n      \"column\": \"Source Cell\",\n      \"properties\": {\n        \"dtype\": \"string\",\n        \"num_unique_values\": 1,\n        \"samples\": [\n          \"G10\"\n        ],\n        \"semantic_type\": \"\",\n        \"description\": \"\"\n      }\n    },\n    {\n      \"column\": \"Formula Type\",\n      \"properties\": {\n        \"dtype\": \"string\",\n        \"num_unique_values\": 1,\n        \"samples\": [\n          \"direct\"\n        ],\n        \"semantic_type\": \"\",\n        \"description\": \"\"\n      }\n    },\n    {\n      \"column\": \"prixAct\",\n      \"properties\": {\n        \"dtype\": \"number\",\n        \"std\": null,\n        \"min\": 648.6,\n        \"max\": 648.6,\n        \"num_unique_values\": 1,\n        \"samples\": [\n          648.6\n        ],\n        \"semantic_type\": \"\",\n        \"description\": \"\"\n      }\n    }\n  ]\n}"
            }
          },
          "metadata": {},
          "execution_count": 37
        }
      ]
    },
    {
      "cell_type": "code",
      "source": [
        "tunMarPr['nbFrCfPr']=tunMarPr['Coefficient']*tunMarPr['freq_totale']*tunMarPr['nbr_equipe']*tunMarPr['prixAct']\n",
        "tunMarPrA=tunMarPr.groupby(['Marché', 'Tunnel',tunMarPr['Référence prix']])['nbFrCfPr'].sum()"
      ],
      "metadata": {
        "id": "jzM8VyRTSKg8"
      },
      "id": "jzM8VyRTSKg8",
      "execution_count": 39,
      "outputs": []
    },
    {
      "cell_type": "code",
      "source": [
        "tunMarPrA[1:100:10]"
      ],
      "metadata": {
        "id": "6kdd3T-gT82R",
        "outputId": "49bcbcc6-af5a-4436-fac3-10fa3c7da25a",
        "colab": {
          "base_uri": "https://localhost:8080/",
          "height": 429
        }
      },
      "id": "6kdd3T-gT82R",
      "execution_count": 41,
      "outputs": [
        {
          "output_type": "execute_result",
          "data": {
            "text/plain": [
              "Marché    Tunnel              Référence prix\n",
              "AEV       Ambroise Paré       CRE102                0.00\n",
              "          Bicêtre             AEV08              1357.40\n",
              "          Chennevières        AEFB11             1417.44\n",
              "          Guy Môquet          AEPE20             6033.78\n",
              "          La Défense          AEPO10            30678.92\n",
              "          Moulin              AEPE20             6033.78\n",
              "          Nanterre échangeur  AEPO11            19251.36\n",
              "          Orly                ECPS12                0.00\n",
              "Automate  Ambroise Paré       AUPR11              309.50\n",
              "          Belle-Rive          AUPR47              976.75\n",
              "Name: nbFrCfPr, dtype: float64"
            ],
            "text/html": [
              "<div>\n",
              "<style scoped>\n",
              "    .dataframe tbody tr th:only-of-type {\n",
              "        vertical-align: middle;\n",
              "    }\n",
              "\n",
              "    .dataframe tbody tr th {\n",
              "        vertical-align: top;\n",
              "    }\n",
              "\n",
              "    .dataframe thead th {\n",
              "        text-align: right;\n",
              "    }\n",
              "</style>\n",
              "<table border=\"1\" class=\"dataframe\">\n",
              "  <thead>\n",
              "    <tr style=\"text-align: right;\">\n",
              "      <th></th>\n",
              "      <th></th>\n",
              "      <th></th>\n",
              "      <th>nbFrCfPr</th>\n",
              "    </tr>\n",
              "    <tr>\n",
              "      <th>Marché</th>\n",
              "      <th>Tunnel</th>\n",
              "      <th>Référence prix</th>\n",
              "      <th></th>\n",
              "    </tr>\n",
              "  </thead>\n",
              "  <tbody>\n",
              "    <tr>\n",
              "      <th rowspan=\"8\" valign=\"top\">AEV</th>\n",
              "      <th>Ambroise Paré</th>\n",
              "      <th>CRE102</th>\n",
              "      <td>0.00</td>\n",
              "    </tr>\n",
              "    <tr>\n",
              "      <th>Bicêtre</th>\n",
              "      <th>AEV08</th>\n",
              "      <td>1357.40</td>\n",
              "    </tr>\n",
              "    <tr>\n",
              "      <th>Chennevières</th>\n",
              "      <th>AEFB11</th>\n",
              "      <td>1417.44</td>\n",
              "    </tr>\n",
              "    <tr>\n",
              "      <th>Guy Môquet</th>\n",
              "      <th>AEPE20</th>\n",
              "      <td>6033.78</td>\n",
              "    </tr>\n",
              "    <tr>\n",
              "      <th>La Défense</th>\n",
              "      <th>AEPO10</th>\n",
              "      <td>30678.92</td>\n",
              "    </tr>\n",
              "    <tr>\n",
              "      <th>Moulin</th>\n",
              "      <th>AEPE20</th>\n",
              "      <td>6033.78</td>\n",
              "    </tr>\n",
              "    <tr>\n",
              "      <th>Nanterre échangeur</th>\n",
              "      <th>AEPO11</th>\n",
              "      <td>19251.36</td>\n",
              "    </tr>\n",
              "    <tr>\n",
              "      <th>Orly</th>\n",
              "      <th>ECPS12</th>\n",
              "      <td>0.00</td>\n",
              "    </tr>\n",
              "    <tr>\n",
              "      <th rowspan=\"2\" valign=\"top\">Automate</th>\n",
              "      <th>Ambroise Paré</th>\n",
              "      <th>AUPR11</th>\n",
              "      <td>309.50</td>\n",
              "    </tr>\n",
              "    <tr>\n",
              "      <th>Belle-Rive</th>\n",
              "      <th>AUPR47</th>\n",
              "      <td>976.75</td>\n",
              "    </tr>\n",
              "  </tbody>\n",
              "</table>\n",
              "</div><br><label><b>dtype:</b> float64</label>"
            ]
          },
          "metadata": {},
          "execution_count": 41
        }
      ]
    },
    {
      "cell_type": "code",
      "source": [],
      "metadata": {
        "id": "WjPc0LvNT-uo"
      },
      "id": "WjPc0LvNT-uo",
      "execution_count": null,
      "outputs": []
    }
  ],
  "metadata": {
    "kernelspec": {
      "display_name": "base",
      "language": "python",
      "name": "python3"
    },
    "language_info": {
      "codemirror_mode": {
        "name": "ipython",
        "version": 3
      },
      "file_extension": ".py",
      "mimetype": "text/x-python",
      "name": "python",
      "nbconvert_exporter": "python",
      "pygments_lexer": "ipython3",
      "version": "3.9.18"
    },
    "colab": {
      "provenance": [],
      "include_colab_link": true
    }
  },
  "nbformat": 4,
  "nbformat_minor": 5
}